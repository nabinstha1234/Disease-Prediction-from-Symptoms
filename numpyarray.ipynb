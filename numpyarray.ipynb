{
  "nbformat": 4,
  "nbformat_minor": 0,
  "metadata": {
    "colab": {
      "name": "numpyarray.ipynb",
      "provenance": [],
      "collapsed_sections": [],
      "authorship_tag": "ABX9TyOVfymkHBwq4RqCWRvK1FkS",
      "include_colab_link": true
    },
    "kernelspec": {
      "name": "python3",
      "display_name": "Python 3"
    },
    "language_info": {
      "name": "python"
    }
  },
  "cells": [
    {
      "cell_type": "markdown",
      "metadata": {
        "id": "view-in-github",
        "colab_type": "text"
      },
      "source": [
        "<a href=\"https://colab.research.google.com/github/nabinstha1234/Disease-Prediction-from-Symptoms/blob/master/numpyarray.ipynb\" target=\"_parent\"><img src=\"https://colab.research.google.com/assets/colab-badge.svg\" alt=\"Open In Colab\"/></a>"
      ]
    },
    {
      "cell_type": "markdown",
      "metadata": {
        "id": "4Qfka0XK9G3A"
      },
      "source": [
        "NumPy - Numerical Python\n",
        "\n",
        "Advantages of NUmpy Arrays:\n",
        "    1. Allows several Mathematical Operations\n",
        "    2. Faster operations"
      ]
    },
    {
      "cell_type": "code",
      "metadata": {
        "id": "YqpY7V6w9h4f"
      },
      "source": [
        "import numpy as np"
      ],
      "execution_count": 2,
      "outputs": []
    },
    {
      "cell_type": "markdown",
      "metadata": {
        "id": "oKAcgBIT97Mp"
      },
      "source": [
        "List vs Numpy - Time Taken"
      ]
    },
    {
      "cell_type": "code",
      "metadata": {
        "id": "AM5xS5609uxQ"
      },
      "source": [
        "from time import process_time"
      ],
      "execution_count": 3,
      "outputs": []
    },
    {
      "cell_type": "markdown",
      "metadata": {
        "id": "bMOJ4F2_-GAa"
      },
      "source": [
        "Time taken by a list "
      ]
    },
    {
      "cell_type": "code",
      "metadata": {
        "colab": {
          "base_uri": "https://localhost:8080/"
        },
        "id": "-6uVZxOz-E5n",
        "outputId": "9c14cf94-22aa-43bf-b480-7c822d4f09b4"
      },
      "source": [
        "python_list = [i for i in range(10000)]\n",
        "\n",
        "start_time= process_time()\n",
        "\n",
        "python_list=[i+5 for i in python_list]\n",
        "\n",
        "end_time= process_time()\n",
        "\n",
        "print(end_time-start_time) #this will print amount of time in second required to complete this execution"
      ],
      "execution_count": 10,
      "outputs": [
        {
          "output_type": "stream",
          "text": [
            "0.0006788189999999972\n"
          ],
          "name": "stdout"
        }
      ]
    },
    {
      "cell_type": "code",
      "metadata": {
        "colab": {
          "base_uri": "https://localhost:8080/"
        },
        "id": "eP7BWFdx-63y",
        "outputId": "5cfa0d43-771a-489d-f17f-9cdb8a9c901b"
      },
      "source": [
        "np_array = np.array([ i for i in range(10000)])\n",
        "start_time1= process_time()\n",
        "\n",
        "np_array+=5\n",
        "\n",
        "end_time1= process_time()\n",
        "print(end_time1-start_time1)\n"
      ],
      "execution_count": 11,
      "outputs": [
        {
          "output_type": "stream",
          "text": [
            "0.0002002509999998736\n"
          ],
          "name": "stdout"
        }
      ]
    },
    {
      "cell_type": "markdown",
      "metadata": {
        "id": "ri77b5u9_8CO"
      },
      "source": [
        "Numpy Arrays "
      ]
    },
    {
      "cell_type": "code",
      "metadata": {
        "colab": {
          "base_uri": "https://localhost:8080/"
        },
        "id": "bLeqO2eVAAkg",
        "outputId": "4e5de380-37ab-46c9-e8b8-2608c6968f95"
      },
      "source": [
        "#list \n",
        "list1 = [1,2,3,4,5]\n",
        "print(list1)\n",
        "type(list1)"
      ],
      "execution_count": 12,
      "outputs": [
        {
          "output_type": "stream",
          "text": [
            "[1, 2, 3, 4, 5]\n"
          ],
          "name": "stdout"
        },
        {
          "output_type": "execute_result",
          "data": {
            "text/plain": [
              "list"
            ]
          },
          "metadata": {
            "tags": []
          },
          "execution_count": 12
        }
      ]
    },
    {
      "cell_type": "code",
      "metadata": {
        "colab": {
          "base_uri": "https://localhost:8080/"
        },
        "id": "XnTp2dmwAL6-",
        "outputId": "bcd9aaf8-661e-43be-8c82-be1e378f6f21"
      },
      "source": [
        "# creating arrays in numpy\n",
        "np_arary = np.array([1,2,3,4,5])\n",
        "print(np_arary)\n",
        "type(np_arary)"
      ],
      "execution_count": 14,
      "outputs": [
        {
          "output_type": "stream",
          "text": [
            "[1 2 3 4 5]\n"
          ],
          "name": "stdout"
        },
        {
          "output_type": "execute_result",
          "data": {
            "text/plain": [
              "numpy.ndarray"
            ]
          },
          "metadata": {
            "tags": []
          },
          "execution_count": 14
        }
      ]
    },
    {
      "cell_type": "code",
      "metadata": {
        "colab": {
          "base_uri": "https://localhost:8080/"
        },
        "id": "DqES9KTpAuWI",
        "outputId": "75122824-a8cb-472a-8391-73fae5d36b74"
      },
      "source": [
        "# creating a 1 dim array\n",
        "a = np.array([1,2,3,4])\n",
        "print(a)"
      ],
      "execution_count": 15,
      "outputs": [
        {
          "output_type": "stream",
          "text": [
            "[1 2 3 4]\n"
          ],
          "name": "stdout"
        }
      ]
    },
    {
      "cell_type": "code",
      "metadata": {
        "colab": {
          "base_uri": "https://localhost:8080/"
        },
        "id": "bfRXytEWA6Lg",
        "outputId": "02da1c70-cd30-4b3f-8dfe-c3af4e2dea92"
      },
      "source": [
        "a.shape"
      ],
      "execution_count": 16,
      "outputs": [
        {
          "output_type": "execute_result",
          "data": {
            "text/plain": [
              "(4,)"
            ]
          },
          "metadata": {
            "tags": []
          },
          "execution_count": 16
        }
      ]
    },
    {
      "cell_type": "code",
      "metadata": {
        "colab": {
          "base_uri": "https://localhost:8080/"
        },
        "id": "ZOXJVntbA9iA",
        "outputId": "727e543e-fdcc-42c4-b1ca-78d75f38684c"
      },
      "source": [
        "b = np.array([(1,2,3,4),(5,6,7,8)])\n",
        "print(b)"
      ],
      "execution_count": 19,
      "outputs": [
        {
          "output_type": "stream",
          "text": [
            "[[1 2 3 4]\n",
            " [5 6 7 8]]\n"
          ],
          "name": "stdout"
        }
      ]
    },
    {
      "cell_type": "code",
      "metadata": {
        "colab": {
          "base_uri": "https://localhost:8080/"
        },
        "id": "ZWCIk6CqBUC5",
        "outputId": "c59eb313-0d76-4a5f-dd8d-a52085127ac0"
      },
      "source": [
        "b.shape"
      ],
      "execution_count": 20,
      "outputs": [
        {
          "output_type": "execute_result",
          "data": {
            "text/plain": [
              "(2, 4)"
            ]
          },
          "metadata": {
            "tags": []
          },
          "execution_count": 20
        }
      ]
    },
    {
      "cell_type": "code",
      "metadata": {
        "colab": {
          "base_uri": "https://localhost:8080/"
        },
        "id": "M_TNsuZvBXsG",
        "outputId": "c27c1283-beed-47ec-e25b-c07745d7329f"
      },
      "source": [
        "c = np.array([(1,2,3,4),(5,6,7,8)], dtype=float)\n",
        "print(c)"
      ],
      "execution_count": 21,
      "outputs": [
        {
          "output_type": "stream",
          "text": [
            "[[1. 2. 3. 4.]\n",
            " [5. 6. 7. 8.]]\n"
          ],
          "name": "stdout"
        }
      ]
    },
    {
      "cell_type": "markdown",
      "metadata": {
        "id": "JvuBLUVGB3RR"
      },
      "source": [
        "Initials Placeholders in numpy arrays"
      ]
    },
    {
      "cell_type": "code",
      "metadata": {
        "colab": {
          "base_uri": "https://localhost:8080/"
        },
        "id": "M7uQKjn7Bzzb",
        "outputId": "2113c085-79c9-466b-d535-34bba42db7de"
      },
      "source": [
        "# create a numpy arrays of Zeros\n",
        "x = np.zeros((4,5))\n",
        "x"
      ],
      "execution_count": 22,
      "outputs": [
        {
          "output_type": "execute_result",
          "data": {
            "text/plain": [
              "array([[0., 0., 0., 0., 0.],\n",
              "       [0., 0., 0., 0., 0.],\n",
              "       [0., 0., 0., 0., 0.],\n",
              "       [0., 0., 0., 0., 0.]])"
            ]
          },
          "metadata": {
            "tags": []
          },
          "execution_count": 22
        }
      ]
    },
    {
      "cell_type": "code",
      "metadata": {
        "colab": {
          "base_uri": "https://localhost:8080/"
        },
        "id": "yaeWNDAMCP0O",
        "outputId": "a9602eac-689c-4a37-cd3a-f9bfc29cd80f"
      },
      "source": [
        "# create a numpy arrays of ones\n",
        "y = np.ones((3,3))\n",
        "y"
      ],
      "execution_count": 23,
      "outputs": [
        {
          "output_type": "execute_result",
          "data": {
            "text/plain": [
              "array([[1., 1., 1.],\n",
              "       [1., 1., 1.],\n",
              "       [1., 1., 1.]])"
            ]
          },
          "metadata": {
            "tags": []
          },
          "execution_count": 23
        }
      ]
    },
    {
      "cell_type": "code",
      "metadata": {
        "colab": {
          "base_uri": "https://localhost:8080/"
        },
        "id": "hR2PHzo4CbE2",
        "outputId": "2e0dd5b9-973c-48e2-b49e-48d468e8439f"
      },
      "source": [
        "# array of particular value\n",
        "y = np.full((4,5),5)\n",
        "y"
      ],
      "execution_count": 24,
      "outputs": [
        {
          "output_type": "execute_result",
          "data": {
            "text/plain": [
              "array([[5, 5, 5, 5, 5],\n",
              "       [5, 5, 5, 5, 5],\n",
              "       [5, 5, 5, 5, 5],\n",
              "       [5, 5, 5, 5, 5]])"
            ]
          },
          "metadata": {
            "tags": []
          },
          "execution_count": 24
        }
      ]
    },
    {
      "cell_type": "code",
      "metadata": {
        "colab": {
          "base_uri": "https://localhost:8080/"
        },
        "id": "T6dfJrRECofA",
        "outputId": "0a2cece0-15cd-4f35-e70a-7c2f74c091fd"
      },
      "source": [
        "# create an identity matrix\n",
        "# identity matrix has same number of rows and columns\n",
        "a = np.eye(4)\n",
        "a"
      ],
      "execution_count": 25,
      "outputs": [
        {
          "output_type": "execute_result",
          "data": {
            "text/plain": [
              "array([[1., 0., 0., 0.],\n",
              "       [0., 1., 0., 0.],\n",
              "       [0., 0., 1., 0.],\n",
              "       [0., 0., 0., 1.]])"
            ]
          },
          "metadata": {
            "tags": []
          },
          "execution_count": 25
        }
      ]
    },
    {
      "cell_type": "code",
      "metadata": {
        "colab": {
          "base_uri": "https://localhost:8080/"
        },
        "id": "x2Qji6PVC85r",
        "outputId": "64ed90f8-34ad-425b-a409-3bd10174f96c"
      },
      "source": [
        "# create an numpy array with random values\n",
        "b = np.random.random((3,4))\n",
        "b"
      ],
      "execution_count": 26,
      "outputs": [
        {
          "output_type": "execute_result",
          "data": {
            "text/plain": [
              "array([[0.12515637, 0.22388555, 0.47132255, 0.25226375],\n",
              "       [0.80183413, 0.21832516, 0.5810726 , 0.97824149],\n",
              "       [0.70489151, 0.31036904, 0.84019146, 0.75580097]])"
            ]
          },
          "metadata": {
            "tags": []
          },
          "execution_count": 26
        }
      ]
    },
    {
      "cell_type": "code",
      "metadata": {
        "colab": {
          "base_uri": "https://localhost:8080/"
        },
        "id": "2I-02AkxPqe-",
        "outputId": "ae29dd01-5a30-4e37-ab86-d3a3de8a697f"
      },
      "source": [
        "# rndom integer values array within a specific range\n",
        "c = np.random.randint(10,100,(3,5))\n",
        "print(c)"
      ],
      "execution_count": 30,
      "outputs": [
        {
          "output_type": "stream",
          "text": [
            "[[68 48 39 80 81]\n",
            " [42 76 11 57 77]\n",
            " [84 48 58 29 56]]\n"
          ],
          "name": "stdout"
        }
      ]
    },
    {
      "cell_type": "code",
      "metadata": {
        "colab": {
          "base_uri": "https://localhost:8080/"
        },
        "id": "ClM0SySsQNea",
        "outputId": "c5f66aa9-8831-4988-c41f-c444f9fe3b4f"
      },
      "source": [
        "# array of evenly spaced values --> specifying the number of values required\n",
        "d = np.linspace(10,30,5)\n",
        "d"
      ],
      "execution_count": 31,
      "outputs": [
        {
          "output_type": "execute_result",
          "data": {
            "text/plain": [
              "array([10., 15., 20., 25., 30.])"
            ]
          },
          "metadata": {
            "tags": []
          },
          "execution_count": 31
        }
      ]
    },
    {
      "cell_type": "code",
      "metadata": {
        "colab": {
          "base_uri": "https://localhost:8080/"
        },
        "id": "IyNjszhxQoL9",
        "outputId": "167fa7c4-ff41-4981-a4df-95e253a6577b"
      },
      "source": [
        "# array of evenly spaced values --> specifing the step\n",
        "e = np.arange(10,30,5)\n",
        "e"
      ],
      "execution_count": 32,
      "outputs": [
        {
          "output_type": "execute_result",
          "data": {
            "text/plain": [
              "array([10, 15, 20, 25])"
            ]
          },
          "metadata": {
            "tags": []
          },
          "execution_count": 32
        }
      ]
    },
    {
      "cell_type": "code",
      "metadata": {
        "colab": {
          "base_uri": "https://localhost:8080/"
        },
        "id": "pweFpNeQRCs3",
        "outputId": "bddef440-f635-49e3-9be3-f04064270676"
      },
      "source": [
        "# convert a list to a numpy array\n",
        "list2 = [10,20,20,20,50]\n",
        "\n",
        "np_array =np.asarray(list2)\n",
        "print(np_array)\n",
        "type(np_array)"
      ],
      "execution_count": 34,
      "outputs": [
        {
          "output_type": "stream",
          "text": [
            "[10 20 20 20 50]\n"
          ],
          "name": "stdout"
        },
        {
          "output_type": "execute_result",
          "data": {
            "text/plain": [
              "numpy.ndarray"
            ]
          },
          "metadata": {
            "tags": []
          },
          "execution_count": 34
        }
      ]
    },
    {
      "cell_type": "markdown",
      "metadata": {
        "id": "hLSi4jBdRj0y"
      },
      "source": [
        "Ananysing a numpy array"
      ]
    },
    {
      "cell_type": "code",
      "metadata": {
        "colab": {
          "base_uri": "https://localhost:8080/"
        },
        "id": "_cIPjS8mRhxX",
        "outputId": "cd86202b-cdca-4bd6-c232-171b284a3a31"
      },
      "source": [
        "c = np.random.randint(10,90,(5,5))\n",
        "c"
      ],
      "execution_count": 35,
      "outputs": [
        {
          "output_type": "execute_result",
          "data": {
            "text/plain": [
              "array([[11, 17, 89, 16, 14],\n",
              "       [36, 73, 81, 43, 39],\n",
              "       [10, 17, 30, 46, 62],\n",
              "       [47, 50, 14, 49, 55],\n",
              "       [15, 59, 51, 57, 66]])"
            ]
          },
          "metadata": {
            "tags": []
          },
          "execution_count": 35
        }
      ]
    },
    {
      "cell_type": "code",
      "metadata": {
        "colab": {
          "base_uri": "https://localhost:8080/"
        },
        "id": "LSzcffCERxBz",
        "outputId": "73b9f3c1-781f-4778-f05e-3e16af3b5070"
      },
      "source": [
        "# array dimesnion\n",
        "print(c.shape)"
      ],
      "execution_count": 36,
      "outputs": [
        {
          "output_type": "stream",
          "text": [
            "(5, 5)\n"
          ],
          "name": "stdout"
        }
      ]
    },
    {
      "cell_type": "code",
      "metadata": {
        "colab": {
          "base_uri": "https://localhost:8080/"
        },
        "id": "aVQPnYuDR2IS",
        "outputId": "151d7199-9d3c-49ca-a8c5-82c124760838"
      },
      "source": [
        "# number of dimesnions\n",
        "print(c.ndim)"
      ],
      "execution_count": 38,
      "outputs": [
        {
          "output_type": "stream",
          "text": [
            "2\n"
          ],
          "name": "stdout"
        }
      ]
    },
    {
      "cell_type": "code",
      "metadata": {
        "colab": {
          "base_uri": "https://localhost:8080/"
        },
        "id": "g4S3IScgceD0",
        "outputId": "8fcb35bd-8b4b-4b21-f030-10b5dabf5ff9"
      },
      "source": [
        "# number of elements in an array \n",
        "print(c.size)"
      ],
      "execution_count": 39,
      "outputs": [
        {
          "output_type": "stream",
          "text": [
            "25\n"
          ],
          "name": "stdout"
        }
      ]
    },
    {
      "cell_type": "code",
      "metadata": {
        "colab": {
          "base_uri": "https://localhost:8080/"
        },
        "id": "El3BWkC8co_z",
        "outputId": "1d79e8ce-a079-48a8-ccf9-63ae08809ddc"
      },
      "source": [
        "# checking the datatype of the value in  the array\n",
        "print(c.dtype)"
      ],
      "execution_count": 40,
      "outputs": [
        {
          "output_type": "stream",
          "text": [
            "int64\n"
          ],
          "name": "stdout"
        }
      ]
    },
    {
      "cell_type": "markdown",
      "metadata": {
        "id": "CbhSWAUOcysC"
      },
      "source": [
        "Mathematical operations on a np array"
      ]
    },
    {
      "cell_type": "code",
      "metadata": {
        "id": "qQo6wDZfcx1P"
      },
      "source": [
        "list1 = [1,2,3,4,5]"
      ],
      "execution_count": 41,
      "outputs": []
    },
    {
      "cell_type": "code",
      "metadata": {
        "id": "5SpzPrTbc5-Z"
      },
      "source": [
        "list2= [6,7,8,9,10]"
      ],
      "execution_count": 42,
      "outputs": []
    },
    {
      "cell_type": "code",
      "metadata": {
        "colab": {
          "base_uri": "https://localhost:8080/"
        },
        "id": "e6-CidwZdAEw",
        "outputId": "1ffacc74-5ff6-4720-aa8b-881f9a05af2d"
      },
      "source": [
        "print(list1+list2)"
      ],
      "execution_count": 43,
      "outputs": [
        {
          "output_type": "stream",
          "text": [
            "[1, 2, 3, 4, 5, 6, 7, 8, 9, 10]\n"
          ],
          "name": "stdout"
        }
      ]
    },
    {
      "cell_type": "code",
      "metadata": {
        "colab": {
          "base_uri": "https://localhost:8080/"
        },
        "id": "wAXUZmLKdHdr",
        "outputId": "9d76709f-31b0-4242-89de-8ff8bebb3fd1"
      },
      "source": [
        "a = np.random.randint(0,10,(3,3))\n",
        "b = np.random.randint(10,20,(3,3))\n",
        "print(a)\n",
        "b"
      ],
      "execution_count": 44,
      "outputs": [
        {
          "output_type": "stream",
          "text": [
            "[[6 2 6]\n",
            " [5 1 1]\n",
            " [4 7 5]]\n"
          ],
          "name": "stdout"
        },
        {
          "output_type": "execute_result",
          "data": {
            "text/plain": [
              "array([[10, 15, 13],\n",
              "       [12, 10, 15],\n",
              "       [17, 17, 15]])"
            ]
          },
          "metadata": {
            "tags": []
          },
          "execution_count": 44
        }
      ]
    },
    {
      "cell_type": "code",
      "metadata": {
        "colab": {
          "base_uri": "https://localhost:8080/"
        },
        "id": "2sdk7GREdrbQ",
        "outputId": "4d6f0934-ee49-4fe2-f3e6-22193edbde68"
      },
      "source": [
        "a+b"
      ],
      "execution_count": 45,
      "outputs": [
        {
          "output_type": "execute_result",
          "data": {
            "text/plain": [
              "array([[16, 17, 19],\n",
              "       [17, 11, 16],\n",
              "       [21, 24, 20]])"
            ]
          },
          "metadata": {
            "tags": []
          },
          "execution_count": 45
        }
      ]
    },
    {
      "cell_type": "code",
      "metadata": {
        "colab": {
          "base_uri": "https://localhost:8080/"
        },
        "id": "XwEPlb2bd0s2",
        "outputId": "5ce186c5-2157-4df9-c40d-80b062858297"
      },
      "source": [
        "a-b"
      ],
      "execution_count": 46,
      "outputs": [
        {
          "output_type": "execute_result",
          "data": {
            "text/plain": [
              "array([[ -4, -13,  -7],\n",
              "       [ -7,  -9, -14],\n",
              "       [-13, -10, -10]])"
            ]
          },
          "metadata": {
            "tags": []
          },
          "execution_count": 46
        }
      ]
    },
    {
      "cell_type": "code",
      "metadata": {
        "colab": {
          "base_uri": "https://localhost:8080/"
        },
        "id": "zkwrgwT6d3RP",
        "outputId": "de618ed5-290f-4ee8-df92-182a949f8213"
      },
      "source": [
        "a*b"
      ],
      "execution_count": 47,
      "outputs": [
        {
          "output_type": "execute_result",
          "data": {
            "text/plain": [
              "array([[ 60,  30,  78],\n",
              "       [ 60,  10,  15],\n",
              "       [ 68, 119,  75]])"
            ]
          },
          "metadata": {
            "tags": []
          },
          "execution_count": 47
        }
      ]
    },
    {
      "cell_type": "code",
      "metadata": {
        "colab": {
          "base_uri": "https://localhost:8080/"
        },
        "id": "3qwMdGECd6Ts",
        "outputId": "78d2943b-13b9-4515-8aed-dfa64e8a2413"
      },
      "source": [
        "a/b"
      ],
      "execution_count": 48,
      "outputs": [
        {
          "output_type": "execute_result",
          "data": {
            "text/plain": [
              "array([[0.6       , 0.13333333, 0.46153846],\n",
              "       [0.41666667, 0.1       , 0.06666667],\n",
              "       [0.23529412, 0.41176471, 0.33333333]])"
            ]
          },
          "metadata": {
            "tags": []
          },
          "execution_count": 48
        }
      ]
    },
    {
      "cell_type": "code",
      "metadata": {
        "id": "H9dy4zsud-b3"
      },
      "source": [
        "a = np.random.randint(0,10,(3,3))\n",
        "b = np.random.randint(10,20,(3,3))\n"
      ],
      "execution_count": null,
      "outputs": []
    },
    {
      "cell_type": "code",
      "metadata": {
        "colab": {
          "base_uri": "https://localhost:8080/"
        },
        "id": "Bpc-vITJeGUl",
        "outputId": "40e0f5e6-836a-4886-f279-df6f5299c686"
      },
      "source": [
        "print(a)\n",
        "print(b)"
      ],
      "execution_count": 50,
      "outputs": [
        {
          "output_type": "stream",
          "text": [
            "[[6 2 6]\n",
            " [5 1 1]\n",
            " [4 7 5]]\n",
            "[[10 15 13]\n",
            " [12 10 15]\n",
            " [17 17 15]]\n"
          ],
          "name": "stdout"
        }
      ]
    },
    {
      "cell_type": "code",
      "metadata": {
        "colab": {
          "base_uri": "https://localhost:8080/"
        },
        "id": "KMbhrwGIeNkT",
        "outputId": "2fdaece4-892f-46c1-de5e-472c3ef0c69e"
      },
      "source": [
        "print(np.add(a,b))\n",
        "print(np.subtract(a,b))\n",
        "print(np.multiply(a,b))\n",
        "print(np.divide(a,b))"
      ],
      "execution_count": 51,
      "outputs": [
        {
          "output_type": "stream",
          "text": [
            "[[16 17 19]\n",
            " [17 11 16]\n",
            " [21 24 20]]\n",
            "[[ -4 -13  -7]\n",
            " [ -7  -9 -14]\n",
            " [-13 -10 -10]]\n",
            "[[ 60  30  78]\n",
            " [ 60  10  15]\n",
            " [ 68 119  75]]\n",
            "[[0.6        0.13333333 0.46153846]\n",
            " [0.41666667 0.1        0.06666667]\n",
            " [0.23529412 0.41176471 0.33333333]]\n"
          ],
          "name": "stdout"
        }
      ]
    },
    {
      "cell_type": "code",
      "metadata": {
        "colab": {
          "base_uri": "https://localhost:8080/"
        },
        "id": "tiTdNfXse0Fw",
        "outputId": "5e800d16-f855-4fea-9e32-b03df53ae9dd"
      },
      "source": [
        "array = np.random.randint(0,10,(2,3))\n",
        "print(array)"
      ],
      "execution_count": 53,
      "outputs": [
        {
          "output_type": "stream",
          "text": [
            "[[3 9 4]\n",
            " [9 2 9]]\n"
          ],
          "name": "stdout"
        }
      ]
    },
    {
      "cell_type": "code",
      "metadata": {
        "colab": {
          "base_uri": "https://localhost:8080/"
        },
        "id": "7rmdetvge9om",
        "outputId": "dcfa6934-7944-4bc4-f521-2d9a8e921484"
      },
      "source": [
        "array.shape"
      ],
      "execution_count": 54,
      "outputs": [
        {
          "output_type": "execute_result",
          "data": {
            "text/plain": [
              "(2, 3)"
            ]
          },
          "metadata": {
            "tags": []
          },
          "execution_count": 54
        }
      ]
    },
    {
      "cell_type": "code",
      "metadata": {
        "colab": {
          "base_uri": "https://localhost:8080/"
        },
        "id": "VwQ8csF0e_0i",
        "outputId": "a544debe-c059-4cca-f14a-23c474ca6585"
      },
      "source": [
        "array.size"
      ],
      "execution_count": 55,
      "outputs": [
        {
          "output_type": "execute_result",
          "data": {
            "text/plain": [
              "6"
            ]
          },
          "metadata": {
            "tags": []
          },
          "execution_count": 55
        }
      ]
    },
    {
      "cell_type": "code",
      "metadata": {
        "colab": {
          "base_uri": "https://localhost:8080/"
        },
        "id": "E-5PYZXRfB5_",
        "outputId": "b25d0d63-ef95-4e2c-e0f4-922d0ea83c4b"
      },
      "source": [
        "# transpose\n",
        "trans = np.transpose(array)\n",
        "print(trans)\n",
        "trans.shape"
      ],
      "execution_count": 56,
      "outputs": [
        {
          "output_type": "stream",
          "text": [
            "[[3 9]\n",
            " [9 2]\n",
            " [4 9]]\n"
          ],
          "name": "stdout"
        },
        {
          "output_type": "execute_result",
          "data": {
            "text/plain": [
              "(3, 2)"
            ]
          },
          "metadata": {
            "tags": []
          },
          "execution_count": 56
        }
      ]
    },
    {
      "cell_type": "code",
      "metadata": {
        "colab": {
          "base_uri": "https://localhost:8080/"
        },
        "id": "lerBBDf1fU-k",
        "outputId": "e003ba41-01b2-4659-e777-c244c1121ae1"
      },
      "source": [
        "trans2 = array.T\n",
        "print(trans2)\n",
        "print(trans2.shape)"
      ],
      "execution_count": 57,
      "outputs": [
        {
          "output_type": "stream",
          "text": [
            "[[3 9]\n",
            " [9 2]\n",
            " [4 9]]\n",
            "(3, 2)\n"
          ],
          "name": "stdout"
        }
      ]
    },
    {
      "cell_type": "code",
      "metadata": {
        "colab": {
          "base_uri": "https://localhost:8080/"
        },
        "id": "vnZP059hfmFo",
        "outputId": "01545d01-982c-46a4-eb61-43524a2e01c0"
      },
      "source": [
        "# reshaping array \n",
        "a = np.random.randint(0,10,(2,3))\n",
        "print(a)\n",
        "print(a.shape)\n"
      ],
      "execution_count": 58,
      "outputs": [
        {
          "output_type": "stream",
          "text": [
            "[[5 7 8]\n",
            " [7 4 3]]\n",
            "(2, 3)\n"
          ],
          "name": "stdout"
        }
      ]
    },
    {
      "cell_type": "code",
      "metadata": {
        "colab": {
          "base_uri": "https://localhost:8080/"
        },
        "id": "IObgZvq0fyVa",
        "outputId": "c1304db5-1394-490d-c5f6-1e66484564da"
      },
      "source": [
        "b = a.reshape(3,2)\n",
        "print(b)"
      ],
      "execution_count": 59,
      "outputs": [
        {
          "output_type": "stream",
          "text": [
            "[[5 7]\n",
            " [8 7]\n",
            " [4 3]]\n"
          ],
          "name": "stdout"
        }
      ]
    },
    {
      "cell_type": "code",
      "metadata": {
        "id": "mlfVoqgIf9QJ"
      },
      "source": [
        ""
      ],
      "execution_count": null,
      "outputs": []
    }
  ]
}